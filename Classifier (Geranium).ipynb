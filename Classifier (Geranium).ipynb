{
 "cells": [
  {
   "cell_type": "code",
   "execution_count": 1,
   "metadata": {},
   "outputs": [],
   "source": [
    "# imports pandas and numpy, two important libraries for data manipulation\n",
    "import numpy as np\n",
    "import pandas as pd"
   ]
  },
  {
   "cell_type": "code",
   "execution_count": 2,
   "metadata": {},
   "outputs": [],
   "source": [
    "# Create a function to parse the Kmeans Data\n",
    "# As the data is output in the csv file, its a string, formatted as \"[number, number, number]\"\n",
    "# This function takes the string as the data argument and uses the place to return the corresponding number\n",
    "# For example, if the data = \"[1, 2, 3]\" and the place = 0, the function will return 1\n",
    "def parse_data (data, place):\n",
    "    \n",
    "    # If the data column didn't pick up flowers, just return 0 for the values\n",
    "    if data == \"no flowers\":\n",
    "        return 0\n",
    "\n",
    "    # Use splicing to get rid of square brackets and split by a comma and space\n",
    "    data = data[1:-1].split(\", \")\n",
    "\n",
    "    # return an item from the list, based on the specified index\n",
    "    return float(data[place])"
   ]
  },
  {
   "cell_type": "code",
   "execution_count": 3,
   "metadata": {},
   "outputs": [],
   "source": [
    "# Define a function to make an assignment \n",
    "# This function assumes a simple single variable classification\n",
    "# data is the number to compare\n",
    "# the lower_bin is the lower value of the color bin\n",
    "# the upper_bin is the upper value of the color bin\n",
    "# If the data is lower than the lower_bin, it classifies as light\n",
    "# If the data is higher than the upper_bin, it classifies as dark\n",
    "# Anything in between the upper and lower bins (inclusive) classifies as medium\n",
    "# For example if data = 5, lower_bin = 4, upper_bin = 6, the functions will return \"medium\"\n",
    "def classify (data, lower_bin, upper_bin):\n",
    "    \n",
    "     # If the data column didn't pick up flowers, just return 0 for the values\n",
    "    if data == 0:\n",
    "        return 0\n",
    "    \n",
    "    # If the data is lower than the lower bin, it's light\n",
    "    if data < lower_bin:\n",
    "        return \"light\"\n",
    "    # If the data is higher than the upper bin, it's dark\n",
    "    elif data > upper_bin: \n",
    "        return \"dark\"\n",
    "    # If it's neither of those cases, the color must be between the upper and lower bounds, so it's medium\n",
    "    else:\n",
    "        return \"medium\""
   ]
  },
  {
   "cell_type": "code",
   "execution_count": 4,
   "metadata": {},
   "outputs": [],
   "source": [
    "# Read data from a CSV file and stores it into a dataframe\n",
    "# Like the destination, an \"r\" should be added in front path\n",
    "# This may be either an absolute path (recommended for beginners) or a relative path, depending on how the file is saved\n",
    "# Note: most of the time, no further arguments are required. Sometimes, though, there will be encoding issues\n",
    "# The most common fix is to add an argument, \"encoding\", using either:\n",
    "# encoding = 'utf-8'\n",
    "# encoding = 'latin1', \n",
    "# encoding = 'iso-8859-1',\n",
    "# encoding = 'cp1252'\n",
    "df = pd.read_csv(r\"C:\\Users\\Example\\FlowerClassification\\YourSaveFile.csv\")"
   ]
  },
  {
   "cell_type": "code",
   "execution_count": 5,
   "metadata": {},
   "outputs": [],
   "source": [
    "# This creates a new column in the dataframe that extracts the saturation value from the K-Means Clustering data\n",
    "df[\"Saturation\"] = df[\"KMeansData\"].apply(lambda x: parse_data(x, 1))"
   ]
  },
  {
   "cell_type": "code",
   "execution_count": null,
   "metadata": {},
   "outputs": [],
   "source": [
    "# This creates a new column in the dataframe that classifies each observation as \"light\", \"medium\", and \"dark\"\n",
    "# based on the rules described in the function\n",
    "# Note that the example values are the upper and lower bounds of the saturation for Geranium\n",
    "df[\"Classification\"] = df[\"Saturation\"].apply(lambda x: classify(x, 70.5828523, 92.75856618))"
   ]
  },
  {
   "cell_type": "code",
   "execution_count": 10,
   "metadata": {},
   "outputs": [],
   "source": [
    "# Finally, the code is saved to a csv file locally\n",
    "# Use just a file name to save it in the same directoty\n",
    "# Use an absolute path to save it to some other location in the system\n",
    "df.to_csv(\"FlowerClassifications(Geranium).csv\")"
   ]
  },
  {
   "cell_type": "code",
   "execution_count": 8,
   "metadata": {},
   "outputs": [],
   "source": []
  },
  {
   "cell_type": "code",
   "execution_count": 11,
   "metadata": {},
   "outputs": [],
   "source": []
  },
  {
   "cell_type": "code",
   "execution_count": null,
   "metadata": {},
   "outputs": [],
   "source": []
  }
 ],
 "metadata": {
  "kernelspec": {
   "display_name": "Python 3",
   "language": "python",
   "name": "python3"
  },
  "language_info": {
   "codemirror_mode": {
    "name": "ipython",
    "version": 3
   },
   "file_extension": ".py",
   "mimetype": "text/x-python",
   "name": "python",
   "nbconvert_exporter": "python",
   "pygments_lexer": "ipython3",
   "version": "3.7.1"
  }
 },
 "nbformat": 4,
 "nbformat_minor": 2
}
