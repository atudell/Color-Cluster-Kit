{
 "cells": [
  {
   "cell_type": "code",
   "execution_count": 1,
   "metadata": {},
   "outputs": [],
   "source": [
    "# imports pandas and numpy, two important libraries for data manipulation\n",
    "import numpy as np\n",
    "import pandas as pd"
   ]
  },
  {
   "cell_type": "code",
   "execution_count": null,
   "metadata": {},
   "outputs": [],
   "source": [
    "# Create a function to parse the Kmeans Data\n",
    "# As the data is output in the csv file, its a string, formatted as \"[number, number, number]\"\n",
    "# This function takes the string as the data argument and uses the place to return the corresponding number\n",
    "# For example, if the data = \"[1, 2, 3]\" and the place = 0, the function will return 1\n",
    "def parse_data (data, place):\n",
    "    \n",
    "    # If the data column didn't pick up flowers, just return 0 for the values\n",
    "    if data == \"no flowers\":\n",
    "        return 0\n",
    "\n",
    "    # Use splicing to get rid of square brackets and split by a comma and space\n",
    "    data = data[1:-1].split(\", \")\n",
    "\n",
    "    # return an item from the list, based on the specified index\n",
    "    return float(data[place])"
   ]
  },
  {
   "cell_type": "code",
   "execution_count": null,
   "metadata": {},
   "outputs": [],
   "source": [
    "# Define a function to make an assignment \n",
    "# This function assumes a simple single variable classification\n",
    "# pixels are the number of pixels detected in the data\n",
    "# threshold is the number of pixels detected in order to be classified in a certain group\n",
    "# Note that because this dataset assumes there is an flower in each image, there's no consideration\n",
    "# for images with no flowers\n",
    "def classify(pixels, threshold):\n",
    "    \n",
    "    # If less than the threshold number of blue pixels are detected (or none are), then the image is assumed white\n",
    "    if pixels <= threshold:\n",
    "        return \"White\"\n",
    "    # If more than the threshold number of bluw pixels are detected, then the image is classified as blue\n",
    "    else:\n",
    "        return \"Blue\""
   ]
  },
  {
   "cell_type": "code",
   "execution_count": null,
   "metadata": {},
   "outputs": [],
   "source": [
    "# Read data from a CSV file and stores it into a dataframe\n",
    "# Like the destination, an \"r\" should be added in front path\n",
    "# This may be either an absolute path (recommended for beginners) or a relative path, depending on how the file is saved\n",
    "# Note: most of the time, no further arguments are required. Sometimes, though, there will be encoding issues\n",
    "# The most common fix is to add an argument, \"encoding\", using either:\n",
    "# encoding = 'utf-8'\n",
    "# encoding = 'latin1', \n",
    "# encoding = 'iso-8859-1',\n",
    "# encoding = 'cp1252'\n",
    "df = pd.read_csv(r\"C:\\Users\\Example\\FlowerClassification\\YourSaveFile.csv\")"
   ]
  },
  {
   "cell_type": "code",
   "execution_count": null,
   "metadata": {},
   "outputs": [],
   "source": [
    "# This creates a new column in the dataframe that extracts the number of pixels from the K-Means Clustering data\n",
    "df[\"pixels\"] = df[\"KMeansData\"].apply(lambda x: parse_data(x, 2))"
   ]
  },
  {
   "cell_type": "code",
   "execution_count": null,
   "metadata": {},
   "outputs": [],
   "source": [
    "# This creates a new column in the dataframe that classifies each observation as \"White\" or \"Blue\"\n",
    "# based on the rules described in the function\n",
    "# Note that the example threshold is 3000 pixels\n",
    "df[\"Classification\"] = df[\"pixels\"].apply(lambda x: classify(x, 3000))"
   ]
  },
  {
   "cell_type": "code",
   "execution_count": null,
   "metadata": {},
   "outputs": [],
   "source": [
    "# Finally, the code is saved to a csv file locally\n",
    "# Use just a file name to save it in the same directoty\n",
    "# Use an absolute path to save it to some other location in the system\n",
    "df.to_csv(\"FlowerClassifications(Sandblossom).csv\")"
   ]
  }
 ],
 "metadata": {
  "kernelspec": {
   "display_name": "Python 3",
   "language": "python",
   "name": "python3"
  },
  "language_info": {
   "codemirror_mode": {
    "name": "ipython",
    "version": 3
   },
   "file_extension": ".py",
   "mimetype": "text/x-python",
   "name": "python",
   "nbconvert_exporter": "python",
   "pygments_lexer": "ipython3",
   "version": "3.7.1"
  }
 },
 "nbformat": 4,
 "nbformat_minor": 4
}
